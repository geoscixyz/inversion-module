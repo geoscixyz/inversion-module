{
 "cells": [
  {
   "cell_type": "markdown",
   "metadata": {
    "iooxa": {
     "id": {
      "block": "tCcvuKEfLlo6vA3QaAcs",
      "project": "VNMrkxzChhdveZyf6lmb",
      "version": 1
     }
    }
   },
   "source": [
    "# Linear Inversion App"
   ]
  },
  {
   "cell_type": "code",
   "execution_count": null,
   "metadata": {
    "iooxa": {
     "id": {
      "block": "8hoXeANtrV3ZUHZuBUa8",
      "project": "VNMrkxzChhdveZyf6lmb",
      "version": 5
     },
     "outputId": {
      "block": "c3ct5bmxGb0kJAJA80y1",
      "project": "VNMrkxzChhdveZyf6lmb",
      "version": 3
     }
    }
   },
   "outputs": [],
   "source": [
    "from geoscilabs.inversion.LinearInversionDirect import LinearInversionDirectApp\n",
    "from ipywidgets import interact, FloatSlider, ToggleButtons, IntSlider, FloatText, IntText\n",
    "import matplotlib.pyplot as plt\n",
    "import matplotlib\n",
    "matplotlib.rcParams['font.size'] = 14"
   ]
  },
  {
   "cell_type": "code",
   "execution_count": null,
   "metadata": {
    "iooxa": {
     "id": {
      "block": "XoBdBeGBCevcAMVqqZtM",
      "project": "VNMrkxzChhdveZyf6lmb",
      "version": 1
     },
     "outputId": {
      "block": "nzHSDMZI4foQGe88I1D5",
      "project": "VNMrkxzChhdveZyf6lmb",
      "version": 1
     }
    }
   },
   "outputs": [],
   "source": [
    "app = LinearInversionDirectApp()"
   ]
  },
  {
   "cell_type": "markdown",
   "metadata": {
    "iooxa": {
     "id": {
      "block": "wzGxtmJjFucP0mYtZzVD",
      "project": "VNMrkxzChhdveZyf6lmb",
      "version": 7
     }
    }
   },
   "source": [
    "## Background\n",
    "\n",
    "This app is based upon the inversion tutorial: \"INVERSION FOR APPLIED GEOPHYSICS\" by Oldenburg and Li (2005).\n",
    "\n",
    "Douglas W. Oldenburg and Yaoguo Li (2005) 5. Inversion for Applied Geophysics: A Tutorial. Near-Surface Geophysics: pp. 89-150. eISBN: 978-1-56080-171-9 print ISBN: 978-1-56080-130-6 https://doi.org/10.1190/1.9781560801719.ch5\n",
    "\n",
    "## Purpose\n",
    "\n",
    "We illustrate how a generic linear inverse problem can be solved using a Tikhonov approach. The default parameters provided for the Forward and Inverse problems below generate a reasonable example for illustrating the inversion but the learning comes when these parameters are changed and outcomes are observed.\n",
    "\n",
    "## Outline\n",
    "\n",
    "The app is divided into two sections:\n",
    "\n",
    "### Forward Problem\n",
    "\n",
    "* Mathematical Background for the Forward Problem\n",
    "\n",
    "* Step 1: Create a model, $\\mathbf{m}$.\n",
    "\n",
    "* Step 2: Generate a sensitivity matrix $\\mathbf{G}$.\n",
    "\n",
    "* Step 3: Simulate data ($\\mathbf{d} = \\mathbf{G}\\mathbf{m}$) and add noise.\n",
    "\n",
    "These steps are explored individually but additional text given in [Linear Tikhonov Inversion](https://curvenote.com/@geosci/inversion-module/linear-tikhonov-inversion). For convenience, the widgets used to carry out all three steps are consolidated at the end of the section. A brief mathematical description is also provided.\n",
    "\n",
    "### Inverse Problem\n",
    "\n",
    "* Mathematical Background for the Inverse Problem\n",
    "\n",
    "* Step 4: Invert the data, and explore the results\n",
    "\n",
    "Here we provide widgets to adjust the parameters for the inverse problem. Some basic information is provided but details about the parameters are provided in the text [Linear Tikhonov Inversion](https://curvenote.com/@geosci/inversion-module/linear-tikhonov-inversion)."
   ]
  },
  {
   "cell_type": "markdown",
   "metadata": {
    "iooxa": {
     "id": {
      "block": "EwFavHjklkQaVB3x4OP8",
      "project": "VNMrkxzChhdveZyf6lmb",
      "version": 5
     }
    }
   },
   "source": [
    "## Mathematical Background for the Forward Problem\n",
    "\n",
    "Let $g_j(x)$ denote the kernel function for $j$th datum. With a given model $m(x)$, the $j$th datum can be computed by solving following integral equation:\n",
    "\n",
    "$$d_j = \\int_a^{b} g_j(x) m(x) dx$$\n",
    "\n",
    "where\n",
    "\n",
    "$$g_j(x) = e^{p_jx} cos (2 \\pi q_jx)$$\n",
    "\n",
    "is the $j^{th}$ kernel function. By integrating $g_j(x)$ over cells of width $\\Delta x$ and using the midpoint rule cell we obtain the sensitivities\n",
    "\n",
    "$$\\mathbf{g}_j(\\mathbf{x}) = e^{p_j\\mathbf{x}} cos (2 \\pi q_j \\mathbf{x}) \\Delta x$$\n",
    "\n",
    "where\n",
    "\n",
    "* $\\mathbf{g}_j$: $j$th row vector for the sensitivty matrix ($1 \\times M$)\n",
    "\n",
    "* $\\mathbf{x}$: model location ($1 \\times M$)\n",
    "\n",
    "* $p_j$: decaying constant (<0)\n",
    "\n",
    "* $q_j$: oscillating constant (>0)\n",
    "\n",
    "By stacking multiple rows of $\\mathbf{g}_j$, we obtain sensitivity matrix, $\\mathbf{G}$:\n",
    "\n",
    "$$\\begin{aligned} \\mathbf{G} = \\begin{bmatrix} \\mathbf{g}_1\\\\ \\vdots\\\\ \\mathbf{g}_{N} \\end{bmatrix} \\end{aligned}$$\n",
    "\n",
    "Here, the size of the matrix $\\mathbf{G}$ is $(N \\times M)$. Finally data, $\\mathbf{d}$, can be written as a linear equation:\n",
    "\n",
    "$$\\mathbf{d} = \\mathbf{G}\\mathbf{m}$$\n",
    "\n",
    "where $\\mathbf{m}$ is an inversion model; this is a column vector ($M \\times 1$).\n",
    "\n",
    "In real measurments, there will be various noise sources, and hence observation, $\\mathbf{d}^{obs}$, can be written as\n",
    "\n",
    "$$\\mathbf{d}^{obs} = \\mathbf{G}\\mathbf{m} + \\mathbf{noise}$$"
   ]
  },
  {
   "cell_type": "markdown",
   "metadata": {
    "iooxa": {
     "id": {
      "block": "gJYiOuHNv1wwsW0YhJOi",
      "project": "VNMrkxzChhdveZyf6lmb",
      "version": 3
     }
    }
   },
   "source": [
    "\n",
    "##  Step 1: Create a model, $\\mathbf{m}$\n",
    "\n",
    "The model $m$ is a function defined on the interval [0,1] and discretized into $M$ equal intervals. It is the sum of a: (a) background $m_{background}$, (b) box car $m1$ and (c) Gaussian $m2$. \n",
    "\n",
    "- `m_background` : background value\n",
    "\n",
    "The box car is defined by\n",
    "- `m1` : amplitude\n",
    "- `m1_center` : center\n",
    "- `m1_width` : width\n",
    "\n",
    "The Gaussian is defined by \n",
    "- `m2` : amplitude\n",
    "- `m2_center` : center\n",
    "- `m2_sigma` : width of Gaussian (as defined by a standard deviation $\\epsilon$)\n",
    "- `M` : number of model parameters\n"
   ]
  },
  {
   "cell_type": "code",
   "execution_count": null,
   "metadata": {
    "iooxa": {
     "id": {
      "block": "wqWKYP3rp97i8uOzVF0I",
      "project": "VNMrkxzChhdveZyf6lmb",
      "version": 19
     },
     "outputId": {
      "block": "pHWnVVIhOCtrN9paGv8Y",
      "project": "VNMrkxzChhdveZyf6lmb",
      "version": 19
     }
    }
   },
   "outputs": [
    {
     "data": {
      "application/vnd.jupyter.widget-view+json": {
       "model_id": "f6416b4b8e924bdeb1ebae17068bfcdf",
       "version_major": 2,
       "version_minor": 0
      },
      "text/plain": [
       "interactive(children=(FloatSlider(value=0.0, continuous_update=False, description='m$_{background}$', max=2.0,…"
      ]
     },
     "metadata": {},
     "output_type": "display_data"
    }
   ],
   "source": [
    "Q_model = app.interact_plot_model()"
   ]
  },
  {
   "cell_type": "markdown",
   "metadata": {
    "iooxa": {
     "id": {
      "block": "0zUv3gNqulptgg5RQABq",
      "project": "VNMrkxzChhdveZyf6lmb",
      "version": 3
     }
    }
   },
   "source": [
    "##  Step 2: Generate a sensitivity matrix, $\\mathbf{G}$\n",
    "\n",
    "By using the following app, we explore each row vector, $\\mathbf{g}_j$, of the kernel or sensitivity matrix , $\\mathbf{G}$. Parameters of the apps are:\n",
    "\n",
    "- `M`: number of model parameters\n",
    "- `N`: number of data\n",
    "- `pmin`, `pmax`: minimum and maximum of the $M$-length range of decaying constant values (<0)\n",
    "- `qmin`, `qmax`: minimum and maximum of the $M$-length range of oscillating constant values (>0)\n",
    "- `ymin`, `ymax`: minimum and maximum of the y-axis"
   ]
  },
  {
   "cell_type": "code",
   "execution_count": null,
   "metadata": {
    "iooxa": {
     "id": {
      "block": "x9PxRUeZbvYukM3fIzi0",
      "project": "VNMrkxzChhdveZyf6lmb",
      "version": 23
     },
     "outputId": {
      "block": "xjP1IRGiznblm7UECCWU",
      "project": "VNMrkxzChhdveZyf6lmb",
      "version": 23
     }
    }
   },
   "outputs": [
    {
     "data": {
      "application/vnd.jupyter.widget-view+json": {
       "model_id": "c44edc258b6f4b0b9c37fd6165b6bc70",
       "version_major": 2,
       "version_minor": 0
      },
      "text/plain": [
       "interactive(children=(IntSlider(value=20, continuous_update=False, description='N', min=1), IntSlider(value=10…"
      ]
     },
     "metadata": {},
     "output_type": "display_data"
    }
   ],
   "source": [
    "Q_kernel = app.interact_plot_G()"
   ]
  },
  {
   "cell_type": "markdown",
   "metadata": {
    "iooxa": {
     "id": {
      "block": "B3aFbgUWKTzmqttCPDu3",
      "project": "VNMrkxzChhdveZyf6lmb",
      "version": 3
     }
    }
   },
   "source": [
    "## Step 3: Simulate data, $\\mathbf{d}=\\mathbf{Gm}$, and add noise\n",
    "\n",
    "The $j$-th datum is the inner product of the $j$-th kernel $g_j(x)$ and the model $m(x)$. In discrete form it can be written as the dot product of the vector $\\mathbf{g}_j$ and the model vector $\\mathbf{m}$.\n",
    "\n",
    "$$ d_j = \\mathbf{g}_j \\mathbf{m} $$\n",
    "\n",
    "If there are $N$ data, these data can be written as a column vector, $\\mathbf{d}$:\n",
    "\n",
    "$$\\begin{aligned}\n",
    "    \\mathbf{d} = \\mathbf{G}\\mathbf{m} = \n",
    "    \\begin{bmatrix}\n",
    "        d_1\\\\\n",
    "        \\vdots\\\\\n",
    "        d_{N}\n",
    "    \\end{bmatrix}\n",
    "\\end{aligned}$$\n",
    "\n",
    "### Adding Noise\n",
    "\n",
    "Observational data are always contaminated with noise. Here we add Gaussian noise $N(0,\\epsilon)$ (zero mean and standard deviation $\\epsilon$). Here we choose \n",
    "\n",
    "$$ \\epsilon = \\% |d| + \\text{floor} $$"
   ]
  },
  {
   "cell_type": "code",
   "execution_count": null,
   "metadata": {
    "iooxa": {
     "id": {
      "block": "Br1aHzGcS21VMQq0PxAG",
      "project": "VNMrkxzChhdveZyf6lmb",
      "version": 22
     },
     "outputId": {
      "block": "BC1pTU9FgoP59URMHq1j",
      "project": "VNMrkxzChhdveZyf6lmb",
      "version": 22
     }
    }
   },
   "outputs": [
    {
     "data": {
      "application/vnd.jupyter.widget-view+json": {
       "model_id": "5fcc5b88e121461a9a405858f256ea3d",
       "version_major": 2,
       "version_minor": 0
      },
      "text/plain": [
       "interactive(children=(Checkbox(value=False, description='add_noise'), FloatText(value=0.0, description='percen…"
      ]
     },
     "metadata": {},
     "output_type": "display_data"
    }
   ],
   "source": [
    "Q_data = app.interact_plot_data()"
   ]
  },
  {
   "cell_type": "markdown",
   "metadata": {
    "iooxa": {
     "id": {
      "block": "Kfas1vohMX9B1w8haaeF",
      "project": "VNMrkxzChhdveZyf6lmb",
      "version": 3
     }
    }
   },
   "source": [
    "## Composite Widget for Forward Modelling"
   ]
  },
  {
   "cell_type": "code",
   "execution_count": null,
   "metadata": {
    "iooxa": {
     "id": {
      "block": "gpeg40wOdccGxZMMBIxU",
      "project": "VNMrkxzChhdveZyf6lmb",
      "version": 22
     },
     "outputId": {
      "block": "yFInpwVxV9MsRBuL5pNr",
      "project": "VNMrkxzChhdveZyf6lmb",
      "version": 22
     }
    }
   },
   "outputs": [
    {
     "data": {
      "application/vnd.jupyter.widget-view+json": {
       "model_id": "68bf0336aa4e402daf5a838e49a97dfb",
       "version_major": 2,
       "version_minor": 0
      },
      "text/plain": [
       "VBox(children=(HBox(children=(VBox(children=(Button(description='Model', layout=Layout(height='30px', width='1…"
      ]
     },
     "metadata": {},
     "output_type": "display_data"
    }
   ],
   "source": [
    "app.reset_to_defaults()\n",
    "app.interact_plot_all_three_together()"
   ]
  },
  {
   "cell_type": "markdown",
   "metadata": {
    "iooxa": {
     "id": {
      "block": "I5cRNN1g9FcrGvbH7UKL",
      "project": "VNMrkxzChhdveZyf6lmb",
      "version": 3
     }
    }
   },
   "source": [
    "## Mathematical Background for the Inverse Problem\n",
    "\n",
    "In the inverse problem we attempt to find the model $\\mathbf{m}$ that gave rise to the observational data $\\mathbf{d}^{obs}$. The inverse problem is formulated as an optimization problem: \n",
    "\n",
    "\n",
    "$$\\text{minimize} \\ \\ \\ \\phi(\\mathbf{m}) = \\phi_d(\\mathbf{m}) + \\beta \\phi_m(\\mathbf{m}) $$\n",
    "\n",
    "where \n",
    "\n",
    "- $\\phi_d$: data misfit\n",
    "- $\\phi_m$: model regularization\n",
    "- $\\beta$: trade-off (Tikhonov) parameter  $0<\\beta<\\infty$\n",
    "\n",
    "Data misfit is defined as \n",
    "\n",
    "$$ \\phi_d = \\sum_{j=1}^{N}\\Big(\\frac{\\mathbf{g}_j\\mathbf{m}-d^{obs}_j}{\\epsilon_j}\\Big)^2$$\n",
    "\n",
    "where $\\epsilon_j$  is an estimate of the standard deviation of the $j$th datum.\n",
    "\n",
    "The model regularization term, $\\phi_m$, can be written as \n",
    "\n",
    "$$ \\phi_m(\\mathbf{m}) = \\alpha_s \\int \\left(\\mathbf{m}-\\mathbf{m}_{ref}\\right)^2 dx + \\alpha_x \\int \\left(\\frac{d \\mathbf{m}}{dx}\\right)^2 dx$$\n",
    "\n",
    "The first term is referred to as the \"smallness\" term. Minimizing this generates a model that is close to a reference model $\\mathbf{m}_{ref}$. The second term penalizes roughness of the model. It is generically referred to as a \"flattest\" or \"smoothness\" term.  "
   ]
  },
  {
   "cell_type": "markdown",
   "metadata": {
    "iooxa": {
     "id": {
      "block": "j7hVPYIA73jbxv0bAinV",
      "project": "VNMrkxzChhdveZyf6lmb",
      "version": 5
     }
    }
   },
   "source": [
    "## Step 4: Invert the data, and explore the results\n",
    "\n",
    "In the inverse problem we define parameters needed to evaluate the data misfit and the model regularization terms. We then deal with parameters associated with the inversion.\n",
    "\n",
    "### Parameters\n",
    "\n",
    "- `mode`: `Run` or `Explore`\n",
    "    - `Run`: Each click of the app, will run `n_beta` inversions\n",
    "    - `Explore`: Not running inversions, but explore result of the previously run inversions\n",
    "\n",
    "#### Misfit\n",
    "- `percent`: estiamte uncertainty as a percentage of the data (%)\n",
    "\n",
    "- `floor`: estimate uncertainty floor\n",
    "\n",
    "- `chifact`: chi factor for stopping criteria (when $\\phi_d^{\\ast}=N \\rightarrow$ `chifact=1`)\n",
    "\n",
    "#### Model norm\n",
    "- `mref`: reference model\n",
    "\n",
    "- `alpha_s`: $\\alpha_s$ weight for smallness term\n",
    "\n",
    "- `alpha_x`: $\\alpha_x$ weight for smoothness term\n",
    "\n",
    "#### Beta\n",
    "- `beta_min`: minimum $\\beta$\n",
    "\n",
    "- `beta_max`: maximum $\\beta$\n",
    "\n",
    "- `n_beta`: the number of $\\beta$\n",
    "\n",
    "#### Plotting options\n",
    "\n",
    "- `data`: `obs & pred` or `normalized misfit`\n",
    "    - `obs & pred`: show observed and predicted data\n",
    "    - `normalized misfit`: show normalized misfit\n",
    "\n",
    "- `tikhonov`: `phi_d & phi_m` or `phi_d vs phi_m`\n",
    "    - `phi_d & phi_m`: show $\\phi_d$ and $\\phi_m$ as a function of $\\beta$\n",
    "    - `phi_d vs phi_m`: show tikhonov curve\n",
    "    \n",
    "- `i_beta`: i-th $\\beta$ value\n",
    "\n",
    "- `scale`: `linear` or `log`\n",
    "    - `linear`: linear scale for plotting the third panel\n",
    "    - `log`: log scale for plotting the third panel     "
   ]
  },
  {
   "cell_type": "code",
   "execution_count": null,
   "metadata": {
    "iooxa": {
     "id": {
      "block": "zYsKlEza7On1cZcJUO1x",
      "project": "VNMrkxzChhdveZyf6lmb",
      "version": 16
     },
     "outputId": {
      "block": "XHsuSTVmGPtaRtV3WO9m",
      "project": "VNMrkxzChhdveZyf6lmb",
      "version": 16
     }
    }
   },
   "outputs": [],
   "source": [
    "app.interact_plot_inversion()"
   ]
  }
 ],
 "metadata": {
  "iooxa": {
   "id": {
    "block": "8gDAkt6Yn0QN26MssI0p",
    "project": "VNMrkxzChhdveZyf6lmb",
    "version": 16
   }
  },
  "kernelspec": {
   "display_name": "Python 3",
   "language": "python",
   "name": "python3"
  },
  "language_info": {
   "codemirror_mode": {
    "name": "ipython",
    "version": 3
   },
   "file_extension": ".py",
   "mimetype": "text/x-python",
   "name": "python",
   "nbconvert_exporter": "python",
   "pygments_lexer": "ipython3",
   "version": "3.7.9"
  }
 },
 "nbformat": 4,
 "nbformat_minor": 4
}
