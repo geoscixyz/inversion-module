{
 "cells": [
  {
   "cell_type": "markdown",
   "metadata": {
    "iooxa": {
     "id": {
      "block": "EGfASRiT4PsVnLLxsLeh",
      "project": "VNMrkxzChhdveZyf6lmb",
      "version": 1
     }
    }
   },
   "source": [
    "# 2D Linear Inversion of Crosswell Tomography Data "
   ]
  },
  {
   "cell_type": "code",
   "execution_count": null,
   "metadata": {
    "iooxa": {
     "id": {
      "block": "wfB56MKiOWceHTJ5RUpv",
      "project": "VNMrkxzChhdveZyf6lmb",
      "version": 1
     },
     "outputId": null
    }
   },
   "outputs": [],
   "source": [
    "import numpy as np\n",
    "from geoscilabs.inversion.TomographyInversion import TomographyInversionApp\n",
    "import matplotlib.pyplot as plt\n",
    "from ipywidgets import interact, IntSlider\n",
    "%matplotlib inline"
   ]
  },
  {
   "cell_type": "markdown",
   "metadata": {
    "iooxa": {
     "id": {
      "block": "mn0JGxd0d8FzGMh9eooe",
      "project": "VNMrkxzChhdveZyf6lmb",
      "version": 2
     }
    }
   },
   "source": [
    "# Purpose\n",
    "\n",
    "From the Linear inversion notebook (1D), we learned important apsects about the linear inversion. \n",
    "However, real world geophysical inverse problem are not often 1D, but multidimensional (2D or 3D), and this extension of dimension allows us to put more apriori (or geologic) information through the regularization term. \n",
    "In this notebook, we explore these multidimensional aspects of the linear inversion by using 2D traveltime croswell tomography example. \n",
    "\n",
    "## Outline\n",
    "This notebook includes three steps:\n",
    "- Step 1: Generate a velocity model\n",
    "- Step 2: Simulate traveltime data and add noise\n",
    "- Step 3: Run $l_2$ inversion"
   ]
  },
  {
   "cell_type": "markdown",
   "metadata": {
    "iooxa": {
     "id": {
      "block": "1O4t8aTnyZO41m5gTuZX",
      "project": "VNMrkxzChhdveZyf6lmb",
      "version": 2
     }
    }
   },
   "source": [
    "## Step 1: Generate a velocity model\n",
    "\n",
    "Here we set up a velocity model using a following app. Controlling parameters of the app are:\n",
    "\n",
    "- `set mesh`: use active **only** when you want to change the 2D mesh\n",
    "- `add block`: use active when you want to add block (if not stay inactive)\n",
    "- `model type`: background or block\n",
    "- `show grid?`: show grid of the mesh\n",
    "\n",
    "- `v0`: velocity of the background\n",
    "- `v1`: velocity of the block\n",
    "- `xc`: x center of the block\n",
    "- `yc`: y center of the block\n",
    "- `dx`: width of the block\n",
    "- `dz`: thickness of the block\n",
    "- `nx`: # of cells in x-direction (this is only active when `set_mesh=active`)\n",
    "- `ny`: # of cells in y-direction (this is only active when `set_mesh=active`)\n",
    "\n",
    "Re-running the following cell will reset the app to the default parameters.\n",
    "\n",
    "----\n",
    "### Changing # of cells in $x$- or $z$- direction\n",
    "Adjustable parameters: `set mesh`, `nx`, `ny`\n",
    "\n",
    "The 2D domain is fixed at 200m $\\times$ 400m.  The number of cells in each direction can be changed which alters the size of cells in each direction. To change either `nx` or `ny`:\n",
    "1. Set `set mesh=active`. This will change the view to the background model `v0`.\n",
    "2. Adjust `nx` and or `ny` using the sliders. The size of the cells is diplayed above the model.\n",
    "3. When finished adjusting the mesh set `set mesh=inactive`. \n",
    "----\n",
    "### Changing the background model\n",
    "Adjustable parameters:  `model type`, `v0`\n",
    "\n",
    "To change the value of the constant background velocity model:\n",
    "1. Set `model type=background`. This will change the view to the background model `v0`.\n",
    "2. Adjust `v0` using the slider. \n",
    "3. When finished ajusting set `model type=block`\n",
    "----\n",
    "### Changing the parameters of a single block\n",
    "Adjustable parameters:  `add block`, `model type`, `v1`, `xc`, `zc`, `dx`, `dz`\n",
    "\n",
    "To change the parameters of a single block model (default):\n",
    "1. Set `add block=active`.\n",
    "2. Adjust `v1`, `xc`, `zc`, `dx`, `dz` using the sliders. The original block settings will remain in view.\n",
    "3. When finished ajusting set `model type=background`\n",
    "4. To confirm the parameter changes and veiw the current block, set `model type=block`\n",
    "----\n",
    "### Adding more blocks\n",
    "Adjustable parameters:  `add block`, `v1`, `xc`, `zc`, `dx`, `dz`\n",
    "\n",
    "The model can contain multiple blocks. To add new blocks to the model:\n",
    "1. Set `add block=inactive`\n",
    "2. Adjust the parameters of the new block `v1`, `xc`, `zc`, `dx`, `dz`. The velocity model will not change yet. The white boundary of the new block serves as a preview.\n",
    "3. When finished adjusting the new block parameters set `add block=active`. The velocity model will be updated with the new block.\n",
    "4. Repeat Steps 1-3 to add more blocks. \n",
    "\n",
    "The parameters of the blocks in a multi-block model cannot be changed once the block has been added. Attempting to adjust the parameters after the block has been added to the model (following the directions in the previous section \"Changing the parameters of a single block\") will remove all previous blocks.  A single block model with the current block is created."
   ]
  },
  {
   "cell_type": "code",
   "execution_count": null,
   "metadata": {
    "iooxa": {
     "id": {
      "block": "6JTKvtdtPKnGv3VkomAe",
      "project": "VNMrkxzChhdveZyf6lmb",
      "version": 2
     },
     "outputId": {
      "block": "F5ZGo1RewS85dUM4HDmf",
      "project": "VNMrkxzChhdveZyf6lmb",
      "version": 1
     }
    }
   },
   "outputs": [
    {
     "data": {
      "application/vnd.jupyter.widget-view+json": {
       "model_id": "b26d468adabf4d62a839ba90333d0cfb",
       "version_major": 2,
       "version_minor": 0
      },
      "text/plain": [
       "HBox(children=(VBox(children=(FloatSlider(value=1000.0, continuous_update=False, description='v0', max=3000.0,…"
      ]
     },
     "metadata": {},
     "output_type": "display_data"
    }
   ],
   "source": [
    "app = TomographyInversionApp()\n",
    "app.interact_plot_model()"
   ]
  },
  {
   "cell_type": "markdown",
   "metadata": {
    "iooxa": {
     "id": {
      "block": "edDvqp96Dy9KHC1upeRH",
      "project": "VNMrkxzChhdveZyf6lmb",
      "version": 2
     }
    }
   },
   "source": [
    "## Step 2: Simulate travel time data and add noise\n",
    "\n",
    "Within this app, by using the velocity model set up above, we simulate traveltime tomography data and add Gaussian noise. This syntehtic data set will be used in the following inversion module. Controlling parameters are:\n",
    "\n",
    "- `percent (%)`: percentage of the Gaussian noise\n",
    "- `floor (s)`: floor of the Gaussain noise\n",
    "- `random seed`: seed to generate random variables having normal distribution\n",
    "- `tx_rx_plane` or `histogram`: data display options\n",
    "- `update`: this buttion is for the interaction with the Step 1 app. If the velocity model is changed by altering the first app, you can simply click `update` to run simulation again with the updated velocity model. \n"
   ]
  },
  {
   "cell_type": "code",
   "execution_count": null,
   "metadata": {
    "iooxa": {
     "id": {
      "block": "gxZy8fbl4leCXycpEcnh",
      "project": "VNMrkxzChhdveZyf6lmb",
      "version": 2
     },
     "outputId": {
      "block": "vGQ1MNkIlml24BfjNPjv",
      "project": "VNMrkxzChhdveZyf6lmb",
      "version": 1
     }
    }
   },
   "outputs": [
    {
     "data": {
      "application/vnd.jupyter.widget-view+json": {
       "model_id": "4bca81bf8b6a43ad9f1dd3684eba0dc9",
       "version_major": 2,
       "version_minor": 0
      },
      "text/plain": [
       "HBox(children=(Output(), Box(children=(Box(children=(BoundedFloatText(value=0.0, description='percent ($\\\\%$):…"
      ]
     },
     "metadata": {},
     "output_type": "display_data"
    }
   ],
   "source": [
    "app.interact_data()"
   ]
  },
  {
   "cell_type": "markdown",
   "metadata": {
    "iooxa": {
     "id": {
      "block": "40eGIF1vltxD3znUuZvx",
      "project": "VNMrkxzChhdveZyf6lmb",
      "version": 2
     }
    }
   },
   "source": [
    "## Step 3: $l_2$ inversion\n",
    "\n",
    "Here we invert the data generated in Step 2 and explore the results. Step 3 is divided into four sections: \n",
    "\n",
    "- Step 3.1: Run inversion\n",
    "- Step 3.2: Plot recovered model\n",
    "- Step 3.3: Plot predicted data\n",
    "- Step 3.4: Plot misfit curves\n"
   ]
  },
  {
   "cell_type": "markdown",
   "metadata": {
    "iooxa": {
     "id": {
      "block": "1ABtJ5pnSHrhn41A7HUC",
      "project": "VNMrkxzChhdveZyf6lmb",
      "version": 2
     }
    }
   },
   "source": [
    "### Step 3.1: Run inversion\n",
    "\n",
    "The inversion, run in the cell below, requires the following input parameters, each of which can be adjusted:\n",
    "\n",
    "- `maxIter`: maximum number of iterations\n",
    "- `m0`: initial model\n",
    "- `mref`: reference model\n",
    "- `percentage`: percent standard deviation for the uncertainty\n",
    "- `floor`: floor value for the uncertainty\n",
    "- `chifact`: chifactor for the target misfit\n",
    "- `beta0_ratio`: ratio to set the initial beta\n",
    "- `coolingFactor`: cooling factor to cool beta\n",
    "- `n_iter_per_beta`: # of interations for each beta value \n",
    "- `alpha_s`: $\\alpha_s$\n",
    "- `alpha_x`: $\\alpha_x$\n",
    "- `alpha_z`: $\\alpha_z$\n",
    "- `use_target`: use target misfit as a stopping criteria or not"
   ]
  },
  {
   "cell_type": "code",
   "execution_count": null,
   "metadata": {
    "iooxa": {
     "id": {
      "block": "1sgixN8g3MBbIYME0BhL",
      "project": "VNMrkxzChhdveZyf6lmb",
      "version": 2
     },
     "outputId": {
      "block": "XdJDt2Yo9ARVibZoCwuf",
      "project": "VNMrkxzChhdveZyf6lmb",
      "version": 1
     }
    }
   },
   "outputs": [
    {
     "name": "stdout",
     "output_type": "stream",
     "text": [
      "1\n",
      "\n",
      "        SimPEG.InvProblem is setting bfgsH0 to the inverse of the eval2Deriv.\n",
      "        ***Done using same Solver and solverOpts as the problem***\n",
      "SimPEG.SaveOutputEveryIteration will save your inversion progress as: '###-InversionModel-2021-03-09-15-12.txt'\n",
      "model has any nan: 0\n",
      "=============================== Projected GNCG ===============================\n",
      "  #     beta     phi_d     phi_m       f      |proj(x-g)-x|  LS    Comment   \n",
      "-----------------------------------------------------------------------------\n",
      "x0 has any nan: 0\n",
      "   0  2.39e+06  3.40e+02  4.00e-02  9.60e+04    1.41e-02      0              \n",
      "   1  1.20e+06  6.76e+02  3.53e-06  6.81e+02    3.20e+05      0              \n",
      "   2  5.98e+05  6.60e+02  1.37e-05  6.68e+02    3.15e+05      0              \n",
      "   3  2.99e+05  6.30e+02  5.14e-05  6.45e+02    3.05e+05      0   Skip BFGS  \n",
      "   4  1.50e+05  5.77e+02  1.83e-04  6.04e+02    2.87e+05      0   Skip BFGS  \n",
      "   5  7.48e+04  4.94e+02  5.91e-04  5.38e+02    2.59e+05      0   Skip BFGS  \n",
      "   6  3.74e+04  3.84e+02  1.66e-03  4.46e+02    2.17e+05      0   Skip BFGS  \n",
      "   7  1.87e+04  2.66e+02  3.93e-03  3.40e+02    1.67e+05      0   Skip BFGS  \n",
      "   8  9.35e+03  1.65e+02  7.79e-03  2.38e+02    1.18e+05      0   Skip BFGS  \n",
      "   9  4.67e+03  9.27e+01  1.32e-02  1.54e+02    7.65e+04      0   Skip BFGS  \n",
      "------------------------- STOP! -------------------------\n",
      "1 : |fc-fOld| = 0.0000e+00 <= tolF*(1+|f0|) = 9.6048e+03\n",
      "1 : |xc-x_last| = 4.0147e-04 <= tolX*(1+|x0|) = 1.0141e-01\n",
      "0 : |proj(x-g)-x|    = 7.6521e+04 <= tolG          = 1.0000e-10\n",
      "0 : |proj(x-g)-x|    = 7.6521e+04 <= 1e3*eps       = 1.0000e-07\n",
      "0 : maxIter   =      20    <= iter          =     10\n",
      "------------------------- DONE! -------------------------\n"
     ]
    }
   ],
   "source": [
    "model, pred, save = app.run_inversion(\n",
    "    maxIter=20,\n",
    "    m0=1./1000.,\n",
    "    mref=1./1250.,\n",
    "    percentage=0,\n",
    "    floor=0.01,\n",
    "    chifact=1,\n",
    "    beta0_ratio=1e2,\n",
    "    coolingFactor=2,\n",
    "    n_iter_per_beta=1,\n",
    "    alpha_s=1/(app.mesh_prop.hx.min())**2 * 1e4,\n",
    "    alpha_x=1,\n",
    "    alpha_z=1,\n",
    "    use_target=True\n",
    ")"
   ]
  },
  {
   "cell_type": "markdown",
   "metadata": {
    "iooxa": {
     "id": {
      "block": "ArhncipHictB0hspCmEl",
      "project": "VNMrkxzChhdveZyf6lmb",
      "version": 2
     }
    }
   },
   "source": [
    "### Step 3.2: Plot recovered model\n",
    "\n",
    "The app below displays the:\n",
    "- Recovered model from the inversion in Step 3.1 (left) \n",
    "- True model generated in Step 1 (right)\n",
    "\n",
    "The model view is changed using:\n",
    "\n",
    "- `ii`: each iteration of the inversion  (`ii`=0 is the initial model `m0`)\n",
    "- `fixed`: when selected the colorbar of both plots have the same fixed limits\n"
   ]
  },
  {
   "cell_type": "code",
   "execution_count": null,
   "metadata": {
    "iooxa": {
     "id": {
      "block": "uNuaeubBVt2ZZGu6L4oK",
      "project": "VNMrkxzChhdveZyf6lmb",
      "version": 1
     },
     "outputId": null
    }
   },
   "outputs": [],
   "source": [
    "app.interact_model_inversion(model, clim=None)"
   ]
  },
  {
   "cell_type": "markdown",
   "metadata": {
    "iooxa": {
     "id": {
      "block": "8AZ2OIrbPMywGoUx58fs",
      "project": "VNMrkxzChhdveZyf6lmb",
      "version": 2
     }
    }
   },
   "source": [
    "### Step 3.3: Plot predicted data \n",
    "\n",
    "The app below displays the:\n",
    "- Obversed data calculated in Step 2 (left) \n",
    "- Predicted data from the inversion in Step 3.1 (center)\n",
    "- Normalized misfit between the observed and predicted data (right)\n",
    "\n",
    "The predicted data and normalized misfit view is changed using:\n",
    "- `ii`: each iteration of the inversion  (`ii`=0 is the initial model `m0`)\n",
    "- `fixed`: when selected the colorbar of both data plots have the same fixed limits"
   ]
  },
  {
   "cell_type": "code",
   "execution_count": null,
   "metadata": {
    "iooxa": {
     "id": {
      "block": "TFB4EGPUXYmxDUmvyvd8",
      "project": "VNMrkxzChhdveZyf6lmb",
      "version": 1
     },
     "outputId": null
    }
   },
   "outputs": [],
   "source": [
    "app.interact_data_inversion(pred)"
   ]
  },
  {
   "cell_type": "markdown",
   "metadata": {
    "iooxa": {
     "id": {
      "block": "m9gIl8IAgB3ruYDNOt0y",
      "project": "VNMrkxzChhdveZyf6lmb",
      "version": 2
     }
    }
   },
   "source": [
    "### Step 3.4: Plot misfit curves\n",
    "\n",
    "1. Plot of the data misfit and model norm values as functions of inversion iteration\n",
    "2. Tikhonov curves with the optimal values indicated by the star\n",
    "    1. Data misfit as a function of trade-off parameter $\\beta$\n",
    "    2. Model norm as a function of trade-off parameter $\\beta$\n",
    "    3. Data misfit versus model norm"
   ]
  },
  {
   "cell_type": "code",
   "execution_count": null,
   "metadata": {
    "iooxa": {
     "id": {
      "block": "4CogWkAXdmAH8ib3yOsy",
      "project": "VNMrkxzChhdveZyf6lmb",
      "version": 2
     },
     "outputId": {
      "block": "ozCBbbnijiuDCyy417LH",
      "project": "VNMrkxzChhdveZyf6lmb",
      "version": 1
     }
    }
   },
   "outputs": [
    {
     "data": {
      "image/png": "[encoded data removed]",
      "text/plain": [
       "<Figure size 360x144 with 2 Axes>"
      ]
     },
     "metadata": {
      "needs_background": "light"
     },
     "output_type": "display_data"
    }
   ],
   "source": [
    "save.plot_misfit_curves()"
   ]
  },
  {
   "cell_type": "code",
   "execution_count": null,
   "metadata": {
    "iooxa": {
     "id": {
      "block": "YE7xFMgZP9Zl72DIfW8U",
      "project": "VNMrkxzChhdveZyf6lmb",
      "version": 1
     },
     "outputId": null
    }
   },
   "outputs": [],
   "source": [
    "save.plot_tikhonov_curves()"
   ]
  }
 ],
 "metadata": {
  "iooxa": {
   "id": {
    "block": "dypivu1U6atwEUVOB9Nm",
    "project": "VNMrkxzChhdveZyf6lmb",
    "version": 2
   }
  },
  "kernelspec": {
   "display_name": "Python 3",
   "language": "python",
   "name": "python3"
  },
  "language_info": {
   "codemirror_mode": {
    "name": "ipython",
    "version": 3
   },
   "file_extension": ".py",
   "mimetype": "text/x-python",
   "name": "python",
   "nbconvert_exporter": "python",
   "pygments_lexer": "ipython3",
   "version": "3.7.9"
  }
 },
 "nbformat": 4,
 "nbformat_minor": 4
}
